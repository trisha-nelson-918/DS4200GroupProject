{
 "cells": [
  {
   "cell_type": "code",
   "execution_count": 1,
   "id": "a8c3ae0f",
   "metadata": {},
   "outputs": [
    {
     "name": "stdout",
     "output_type": "stream",
     "text": [
      "Intel MKL WARNING: Support of Intel(R) Streaming SIMD Extensions 4.2 (Intel(R) SSE4.2) enabled only processors has been deprecated. Intel oneAPI Math Kernel Library 2025.0 will require Intel(R) Advanced Vector Extensions (Intel(R) AVX) instructions.\n",
      "Intel MKL WARNING: Support of Intel(R) Streaming SIMD Extensions 4.2 (Intel(R) SSE4.2) enabled only processors has been deprecated. Intel oneAPI Math Kernel Library 2025.0 will require Intel(R) Advanced Vector Extensions (Intel(R) AVX) instructions.\n"
     ]
    }
   ],
   "source": [
    "import pandas as pd"
   ]
  },
  {
   "cell_type": "code",
   "execution_count": 3,
   "id": "212af75d",
   "metadata": {},
   "outputs": [
    {
     "name": "stdout",
     "output_type": "stream",
     "text": [
      "Cleaning complete, saved as movies_cleaned.csv\n",
      "Number of rows in cleaned dataset: 6937\n"
     ]
    }
   ],
   "source": [
    "input_file = \"Imdb Movie Dataset.csv\"\n",
    "output_file = \"movies_cleaned.csv\"\n",
    "df = pd.read_csv(input_file, parse_dates=['release_date'], dayfirst=False, infer_datetime_format=True)\n",
    "\n",
    "# df.info()\n",
    "\n",
    "# convert release_date to proper format\n",
    "df['release_date'] = pd.to_datetime(df['release_date'], errors='coerce')\n",
    "\n",
    "# drop rows w/ invalid or missing release_date\n",
    "df = df.dropna(subset=['release_date'])\n",
    "\n",
    "# filter movies from 1950s onwards\n",
    "df = df[df['release_date'].dt.year >= 2000]\n",
    "\n",
    "# remove movies that aren't released\n",
    "df = df[df['status'] == \"Released\"]\n",
    "\n",
    "# drop rows w/ missing data\n",
    "required_columns = ['id', 'title', 'vote_average', 'vote_count', 'release_date', 'revenue', 'runtime', 'budget', 'imdb_id']\n",
    "df = df.dropna(subset=required_columns)\n",
    "\n",
    "# remove movies with 0 revenue, runtime, or budget\n",
    "df = df[(df['revenue'] > 0) & (df['runtime'] > 0) & (df['budget'] > 0)]\n",
    "\n",
    "# remove duplicates\n",
    "df = df.drop_duplicates(subset=['id'])\n",
    "\n",
    "# save cleaned csv file\n",
    "df.to_csv(output_file, index=False)\n",
    "\n",
    "print(f\"Cleaning complete, saved as {output_file}\")\n",
    "\n",
    "df = pd.read_csv(\"movies_cleaned.csv\")\n",
    "print(f\"Number of rows in cleaned dataset: {len(df)}\")"
   ]
  }
 ],
 "metadata": {
  "kernelspec": {
   "display_name": "Python 3 (ipykernel)",
   "language": "python",
   "name": "python3"
  },
  "language_info": {
   "codemirror_mode": {
    "name": "ipython",
    "version": 3
   },
   "file_extension": ".py",
   "mimetype": "text/x-python",
   "name": "python",
   "nbconvert_exporter": "python",
   "pygments_lexer": "ipython3",
   "version": "3.10.13"
  }
 },
 "nbformat": 4,
 "nbformat_minor": 5
}
