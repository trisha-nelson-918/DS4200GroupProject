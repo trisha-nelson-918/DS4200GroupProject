{
 "cells": [
  {
   "cell_type": "code",
   "execution_count": 1,
   "id": "2ca692d5",
   "metadata": {},
   "outputs": [
    {
     "name": "stdout",
     "output_type": "stream",
     "text": [
      "Requirement already satisfied: typing_extensions in /Users/ameliadsouza/opt/anaconda3/envs/ds/lib/python3.10/site-packages (4.13.2)\r\n"
     ]
    }
   ],
   "source": [
    "!pip install --upgrade typing_extensions"
   ]
  },
  {
   "cell_type": "code",
   "execution_count": 2,
   "id": "8862f7d0",
   "metadata": {},
   "outputs": [
    {
     "name": "stdout",
     "output_type": "stream",
     "text": [
      "Requirement already satisfied: vegafusion in /Users/ameliadsouza/opt/anaconda3/envs/ds/lib/python3.10/site-packages (2.0.2)\r\n",
      "Requirement already satisfied: arro3-core in /Users/ameliadsouza/opt/anaconda3/envs/ds/lib/python3.10/site-packages (from vegafusion) (0.4.6)\r\n",
      "Requirement already satisfied: narwhals>=1.13 in /Users/ameliadsouza/opt/anaconda3/envs/ds/lib/python3.10/site-packages (from vegafusion) (1.23.0)\r\n",
      "Requirement already satisfied: packaging in /Users/ameliadsouza/opt/anaconda3/envs/ds/lib/python3.10/site-packages (from vegafusion) (23.0)\r\n"
     ]
    }
   ],
   "source": [
    "!pip install vegafusion"
   ]
  },
  {
   "cell_type": "code",
   "execution_count": 3,
   "id": "7b0b5bad",
   "metadata": {},
   "outputs": [
    {
     "name": "stdout",
     "output_type": "stream",
     "text": [
      "Requirement already satisfied: vl-convert-python>=1.6.0 in /Users/ameliadsouza/opt/anaconda3/envs/ds/lib/python3.10/site-packages (1.7.0)\r\n"
     ]
    }
   ],
   "source": [
    "!pip install \"vl-convert-python>=1.6.0\""
   ]
  },
  {
   "cell_type": "code",
   "execution_count": 4,
   "id": "c8a456f4",
   "metadata": {},
   "outputs": [
    {
     "name": "stdout",
     "output_type": "stream",
     "text": [
      "Intel MKL WARNING: Support of Intel(R) Streaming SIMD Extensions 4.2 (Intel(R) SSE4.2) enabled only processors has been deprecated. Intel oneAPI Math Kernel Library 2025.0 will require Intel(R) Advanced Vector Extensions (Intel(R) AVX) instructions.\n",
      "Intel MKL WARNING: Support of Intel(R) Streaming SIMD Extensions 4.2 (Intel(R) SSE4.2) enabled only processors has been deprecated. Intel oneAPI Math Kernel Library 2025.0 will require Intel(R) Advanced Vector Extensions (Intel(R) AVX) instructions.\n"
     ]
    },
    {
     "data": {
      "text/plain": [
       "DataTransformerRegistry.enable('vegafusion')"
      ]
     },
     "execution_count": 4,
     "metadata": {},
     "output_type": "execute_result"
    }
   ],
   "source": [
    "import pandas as pd\n",
    "import altair as alt\n",
    "alt.data_transformers.enable('vegafusion')"
   ]
  },
  {
   "cell_type": "code",
   "execution_count": 7,
   "id": "791fbfed",
   "metadata": {
    "scrolled": true
   },
   "outputs": [],
   "source": [
    "import pandas as pd\n",
    "import altair as alt\n",
    "\n",
    "# Disable row limit\n",
    "alt.data_transformers.disable_max_rows()\n",
    "\n",
    "df = pd.read_csv('movies_cleaned.csv')\n",
    "df['primary_genre'] = df['genres'].str.split(',').str[0].str.strip()\n",
    "df = df[df['popularity'] < 900]\n",
    "\n",
    "# Converting to dictionary for VegaFusion compatibility\n",
    "data_values = df.to_dict(orient = 'records')\n",
    "data = alt.InlineData(values = data_values)\n",
    "\n",
    "# Creating dropdown parameter for genre\n",
    "genre_dropdown = alt.param(\n",
    "    name = 'SelectedGenre',\n",
    "    bind = alt.binding_select(\n",
    "        options = sorted(df['primary_genre'].dropna().unique()),\n",
    "        name = 'Genre:'\n",
    "    ),\n",
    "    value = 'Action'\n",
    ")\n",
    "\n",
    "# Chart with points and opacity\n",
    "points = alt.Chart(data).mark_point(filled = True, opacity = 0.5).encode(\n",
    "    x = alt.X('popularity:Q', title = 'Popularity'),\n",
    "    y = alt.Y('vote_average:Q', title = 'Average Rating'),\n",
    "    color = alt.condition(\n",
    "        'datum.primary_genre == SelectedGenre',\n",
    "        alt.Color('primary_genre:N', legend = None, title = 'Highlighted Genre'),\n",
    "        alt.value('lightgray')\n",
    "    ),\n",
    "    tooltip = ['title:N', 'popularity:Q', 'vote_average:Q', 'primary_genre:N']\n",
    ")\n",
    "\n",
    "# Defining chart with no shape encoding\n",
    "chart = alt.Chart(data).mark_point(filled = True).encode(\n",
    "    x = alt.X('popularity:Q', title = 'Popularity'),\n",
    "    y = alt.Y('vote_average:Q', title = 'Average Rating'),\n",
    "    color = alt.condition(\n",
    "        'datum.primary_genre == SelectedGenre',\n",
    "        alt.Color('primary_genre:N', legend = None, title = 'Highlighted Genre'),\n",
    "        alt.value('lightgray')\n",
    "    ),\n",
    "    tooltip = ['title:N', 'popularity:Q', 'vote_average:Q', 'primary_genre:N']\n",
    ").add_params(\n",
    "    genre_dropdown\n",
    ").properties(\n",
    "    title = 'Movie Popularity vs. User Rating by Genre',\n",
    "    width = 700,\n",
    "    height = 500\n",
    ").interactive()\n",
    "\n",
    "chart\n",
    "chart.save('movie_chart.html')"
   ]
  },
  {
   "cell_type": "code",
   "execution_count": null,
   "id": "e1a552a8",
   "metadata": {},
   "outputs": [],
   "source": []
  }
 ],
 "metadata": {
  "kernelspec": {
   "display_name": "Python 3 (ipykernel)",
   "language": "python",
   "name": "python3"
  },
  "language_info": {
   "codemirror_mode": {
    "name": "ipython",
    "version": 3
   },
   "file_extension": ".py",
   "mimetype": "text/x-python",
   "name": "python",
   "nbconvert_exporter": "python",
   "pygments_lexer": "ipython3",
   "version": "3.10.13"
  }
 },
 "nbformat": 4,
 "nbformat_minor": 5
}
